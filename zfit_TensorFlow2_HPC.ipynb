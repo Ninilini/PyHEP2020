{
 "cells": [
  {
   "cell_type": "markdown",
   "metadata": {},
   "source": [
    "# HPC with TensorFlow 2"
   ]
  },
  {
   "cell_type": "code",
   "execution_count": 1,
   "metadata": {},
   "outputs": [],
   "source": [
    "import tensorflow as tf\n",
    "import tensorflow_probability as tfp\n",
    "import zfit\n",
    "from zfit import z\n",
    "import numpy as np\n",
    "import numba"
   ]
  },
  {
   "cell_type": "markdown",
   "metadata": {},
   "source": [
    "As mentioned, TensorFlow is basically Numpy. Let's check that out"
   ]
  },
  {
   "cell_type": "code",
   "execution_count": 2,
   "metadata": {},
   "outputs": [],
   "source": [
    "rnd1 = tf.random.uniform(shape=(10,),  # notice the \"shape\" argument: it's more picky than Numpy\n",
    "                         minval=0,\n",
    "                         maxval=10)\n",
    "rnd2 = tf.random.uniform(shape=(10,),\n",
    "                         maxval=10)"
   ]
  },
  {
   "cell_type": "code",
   "execution_count": 3,
   "metadata": {},
   "outputs": [
    {
     "data": {
      "text/plain": [
       "<tf.Tensor: shape=(10,), dtype=float32, numpy=\n",
       "array([9.542807 , 9.44273  , 6.7489004, 6.580929 , 9.47954  , 2.803868 ,\n",
       "       5.496625 , 1.801542 , 4.1632595, 9.235947 ], dtype=float32)>"
      ]
     },
     "execution_count": 3,
     "metadata": {},
     "output_type": "execute_result"
    }
   ],
   "source": [
    "rnd1"
   ]
  },
  {
   "cell_type": "markdown",
   "metadata": {},
   "source": [
    "This is in fact a \"numpy array wrapped\" and can explicitly be converted to an array"
   ]
  },
  {
   "cell_type": "code",
   "execution_count": 4,
   "metadata": {},
   "outputs": [
    {
     "data": {
      "text/plain": [
       "array([9.542807 , 9.44273  , 6.7489004, 6.580929 , 9.47954  , 2.803868 ,\n",
       "       5.496625 , 1.801542 , 4.1632595, 9.235947 ], dtype=float32)"
      ]
     },
     "execution_count": 4,
     "metadata": {},
     "output_type": "execute_result"
    }
   ],
   "source": [
    "rnd1.numpy()"
   ]
  },
  {
   "cell_type": "markdown",
   "metadata": {},
   "source": [
    "Other operations act as we would expect it"
   ]
  },
  {
   "cell_type": "code",
   "execution_count": 5,
   "metadata": {},
   "outputs": [
    {
     "data": {
      "text/plain": [
       "<tf.Tensor: shape=(10,), dtype=float32, numpy=\n",
       "array([19.542807 , 19.44273  , 16.748901 , 16.580929 , 19.47954  ,\n",
       "       12.803868 , 15.496625 , 11.801542 , 14.1632595, 19.235947 ],\n",
       "      dtype=float32)>"
      ]
     },
     "execution_count": 5,
     "metadata": {},
     "output_type": "execute_result"
    }
   ],
   "source": [
    "rnd1 + 10"
   ]
  },
  {
   "cell_type": "markdown",
   "metadata": {},
   "source": [
    "... and it converts itself (often) to Numpy when needed."
   ]
  },
  {
   "cell_type": "code",
   "execution_count": 6,
   "metadata": {},
   "outputs": [
    {
     "data": {
      "text/plain": [
       "array([3.0891433, 3.0729024, 2.5978646, 2.5653322, 3.078886 , 1.6744754,\n",
       "       2.3444881, 1.3422153, 2.0404067, 3.0390701], dtype=float32)"
      ]
     },
     "execution_count": 6,
     "metadata": {},
     "output_type": "execute_result"
    }
   ],
   "source": [
    "np.sqrt(rnd1)"
   ]
  },
  {
   "cell_type": "markdown",
   "metadata": {},
   "source": [
    "We can slice it..."
   ]
  },
  {
   "cell_type": "code",
   "execution_count": 7,
   "metadata": {},
   "outputs": [
    {
     "data": {
      "text/plain": [
       "<tf.Tensor: shape=(2,), dtype=float32, numpy=array([9.44273  , 6.7489004], dtype=float32)>"
      ]
     },
     "execution_count": 7,
     "metadata": {},
     "output_type": "execute_result"
    }
   ],
   "source": [
    "rnd1[1:3]"
   ]
  },
  {
   "cell_type": "markdown",
   "metadata": {},
   "source": [
    "...expand it...."
   ]
  },
  {
   "cell_type": "code",
   "execution_count": 8,
   "metadata": {},
   "outputs": [
    {
     "data": {
      "text/plain": [
       "<tf.Tensor: shape=(1, 10, 1), dtype=float32, numpy=\n",
       "array([[[9.542807 ],\n",
       "        [9.44273  ],\n",
       "        [6.7489004],\n",
       "        [6.580929 ],\n",
       "        [9.47954  ],\n",
       "        [2.803868 ],\n",
       "        [5.496625 ],\n",
       "        [1.801542 ],\n",
       "        [4.1632595],\n",
       "        [9.235947 ]]], dtype=float32)>"
      ]
     },
     "execution_count": 8,
     "metadata": {},
     "output_type": "execute_result"
    }
   ],
   "source": [
    "rnd1[None, :, None]"
   ]
  },
  {
   "cell_type": "markdown",
   "metadata": {},
   "source": [
    "...and broadcast with the known (maybe slightly stricter) rules"
   ]
  },
  {
   "cell_type": "code",
   "execution_count": 9,
   "metadata": {},
   "outputs": [],
   "source": [
    "matrix1 = rnd1[None, :] * rnd1[:, None]"
   ]
  },
  {
   "cell_type": "markdown",
   "metadata": {},
   "source": [
    "## Equivalent operations\n",
    "\n",
    "Many operations that exist in Numpy also exist in TensorFlow, sometimes with a different name."
   ]
  },
  {
   "cell_type": "code",
   "execution_count": 10,
   "metadata": {},
   "outputs": [
    {
     "data": {
      "text/plain": [
       "<tf.Tensor: shape=(10,), dtype=float32, numpy=\n",
       "array([3.0891435, 3.0729027, 2.5978646, 2.565332 , 3.078886 , 1.6744754,\n",
       "       2.3444881, 1.3422154, 2.0404067, 3.0390701], dtype=float32)>"
      ]
     },
     "execution_count": 10,
     "metadata": {},
     "output_type": "execute_result"
    }
   ],
   "source": [
    "tf.sqrt(rnd1)"
   ]
  },
  {
   "cell_type": "code",
   "execution_count": 11,
   "metadata": {},
   "outputs": [
    {
     "data": {
      "text/plain": [
       "<tf.Tensor: shape=(10,), dtype=float32, numpy=\n",
       "array([623.10846, 616.57385, 440.6772 , 429.7093 , 618.9774 , 183.08179,\n",
       "       358.90845, 117.63375, 271.84482, 603.0717 ], dtype=float32)>"
      ]
     },
     "execution_count": 11,
     "metadata": {},
     "output_type": "execute_result"
    }
   ],
   "source": [
    "tf.reduce_sum(matrix1, axis=0)  # with the axis argument to specify over which to reduce"
   ]
  },
  {
   "cell_type": "markdown",
   "metadata": {},
   "source": [
    "## TensorFlow kernels\n",
    "\n",
    "In general, TensorFlow is preciser compared to Numpy and does less automatic dtype casting and asks more explicit for shapes. For example, integers don't work in the logarithm. However, this error message illustrates very well the kernel dispatch system of TensorFlow, so lets do it!"
   ]
  },
  {
   "cell_type": "code",
   "execution_count": 12,
   "metadata": {},
   "outputs": [
    {
     "name": "stdout",
     "output_type": "stream",
     "text": [
      "Could not find valid device for node.\n",
      "Node:{{node Log}}\n",
      "All kernels registered for op Log :\n",
      "  device='XLA_GPU'; T in [DT_FLOAT, DT_DOUBLE, DT_COMPLEX64, DT_BFLOAT16, DT_COMPLEX128, DT_HALF]\n",
      "  device='XLA_CPU'; T in [DT_FLOAT, DT_DOUBLE, DT_COMPLEX64, DT_BFLOAT16, DT_COMPLEX128, DT_HALF]\n",
      "  device='XLA_CPU_JIT'; T in [DT_FLOAT, DT_DOUBLE, DT_COMPLEX64, DT_BFLOAT16, DT_COMPLEX128, DT_HALF]\n",
      "  device='XLA_GPU_JIT'; T in [DT_FLOAT, DT_DOUBLE, DT_COMPLEX64, DT_BFLOAT16, DT_COMPLEX128, DT_HALF]\n",
      "  device='CPU'; T in [DT_COMPLEX128]\n",
      "  device='CPU'; T in [DT_COMPLEX64]\n",
      "  device='CPU'; T in [DT_BFLOAT16]\n",
      "  device='CPU'; T in [DT_DOUBLE]\n",
      "  device='CPU'; T in [DT_HALF]\n",
      "  device='CPU'; T in [DT_FLOAT]\n",
      "  device='GPU'; T in [DT_DOUBLE]\n",
      "  device='GPU'; T in [DT_HALF]\n",
      "  device='GPU'; T in [DT_FLOAT]\n",
      " [Op:Log]\n"
     ]
    }
   ],
   "source": [
    "try:\n",
    "    tf.math.log(5)\n",
    "except tf.errors.NotFoundError as error:\n",
    "    print(error)"
   ]
  },
  {
   "cell_type": "markdown",
   "metadata": {},
   "source": [
    "What we see here: it searches the registered kernels and does not find any that supports this operation. We find different classifications:\n",
    "- GPU: normal GPU kernel\n",
    "- CPU: normal CPU kernel\n",
    "- XLA: [Accelerated Linear Algebra](https://www.tensorflow.org/xla) is a high-level compiler that can fuse operations, which would result in single calls to a kernel, to a single kernel."
   ]
  },
  {
   "cell_type": "markdown",
   "metadata": {},
   "source": [
    "## tf.function\n",
    "\n",
    "We now want to see the JIT in action. Therefore, we use the example from the slides and start modifying it."
   ]
  },
  {
   "cell_type": "code",
   "execution_count": 13,
   "metadata": {},
   "outputs": [],
   "source": [
    "def add_log(x, y):\n",
    "    print('running Python')\n",
    "    tf.print(\"running TensorFlow\")\n",
    "    x_sq = tf.math.log(x)\n",
    "    y_sq = tf.math.log(y)\n",
    "    return x_sq + y_sq"
   ]
  },
  {
   "cell_type": "markdown",
   "metadata": {},
   "source": [
    "As seen before, we can use it like Python. To make sure that we know when the actual Python is executed, we inserted a print and a `tf.print`, the latter is a TensorFlow operation and therefore expected to be called everytime we compute something."
   ]
  },
  {
   "cell_type": "code",
   "execution_count": 14,
   "metadata": {},
   "outputs": [
    {
     "name": "stdout",
     "output_type": "stream",
     "text": [
      "running Python\n",
      "running TensorFlow\n"
     ]
    },
    {
     "data": {
      "text/plain": [
       "<tf.Tensor: shape=(), dtype=float32, numpy=2.9957323>"
      ]
     },
     "execution_count": 14,
     "metadata": {},
     "output_type": "execute_result"
    }
   ],
   "source": [
    "add_log(4., 5.)"
   ]
  },
  {
   "cell_type": "code",
   "execution_count": 15,
   "metadata": {},
   "outputs": [
    {
     "name": "stdout",
     "output_type": "stream",
     "text": [
      "running Python\n",
      "running TensorFlow\n"
     ]
    },
    {
     "data": {
      "text/plain": [
       "<tf.Tensor: shape=(), dtype=float32, numpy=7.6889133>"
      ]
     },
     "execution_count": 15,
     "metadata": {},
     "output_type": "execute_result"
    }
   ],
   "source": [
    "add_log(42., 52.)"
   ]
  },
  {
   "cell_type": "markdown",
   "metadata": {},
   "source": [
    "As we see, both the Python and TensorFlow operation execute. Now we can do the same with a decorator. Note that so far we entered pure Python numbers, not Tensors. Since we ran in eager mode, this did not matter so far."
   ]
  },
  {
   "cell_type": "code",
   "execution_count": 16,
   "metadata": {},
   "outputs": [],
   "source": [
    "@tf.function(autograph=True)\n",
    "def add_log_tf(x, y):\n",
    "    print('running Python')\n",
    "    tf.print(\"running TensorFlow\")\n",
    "    x_sq = tf.math.log(x)\n",
    "    y_sq = tf.math.log(y)\n",
    "    return x_sq + y_sq"
   ]
  },
  {
   "cell_type": "code",
   "execution_count": 17,
   "metadata": {},
   "outputs": [
    {
     "name": "stdout",
     "output_type": "stream",
     "text": [
      "running Python\n",
      "running TensorFlow\n"
     ]
    },
    {
     "data": {
      "text/plain": [
       "<tf.Tensor: shape=(), dtype=float32, numpy=0.6931472>"
      ]
     },
     "execution_count": 17,
     "metadata": {},
     "output_type": "execute_result"
    }
   ],
   "source": [
    "add_log_tf(1., 2.)"
   ]
  },
  {
   "cell_type": "code",
   "execution_count": 18,
   "metadata": {},
   "outputs": [
    {
     "name": "stdout",
     "output_type": "stream",
     "text": [
      "running Python\n",
      "running TensorFlow\n"
     ]
    },
    {
     "data": {
      "text/plain": [
       "<tf.Tensor: shape=(), dtype=float32, numpy=5.442418>"
      ]
     },
     "execution_count": 18,
     "metadata": {},
     "output_type": "execute_result"
    }
   ],
   "source": [
    "add_log_tf(11., 21.)  # again with different numbers"
   ]
  },
  {
   "cell_type": "markdown",
   "metadata": {},
   "source": [
    "As we see, Python is still run: this happens because 11. is not equal to 1., TensorFlow does not convert those to Tensors. Lets use it in the right way, with Tensors"
   ]
  },
  {
   "cell_type": "code",
   "execution_count": 19,
   "metadata": {},
   "outputs": [
    {
     "name": "stdout",
     "output_type": "stream",
     "text": [
      "running Python\n",
      "running TensorFlow\n"
     ]
    },
    {
     "data": {
      "text/plain": [
       "<tf.Tensor: shape=(), dtype=float32, numpy=0.6931472>"
      ]
     },
     "execution_count": 19,
     "metadata": {},
     "output_type": "execute_result"
    }
   ],
   "source": [
    "add_log_tf(tf.constant(1.), tf.constant(2.))  # first compilation"
   ]
  },
  {
   "cell_type": "code",
   "execution_count": 20,
   "metadata": {},
   "outputs": [
    {
     "name": "stdout",
     "output_type": "stream",
     "text": [
      "running TensorFlow\n"
     ]
    },
    {
     "data": {
      "text/plain": [
       "<tf.Tensor: shape=(), dtype=float32, numpy=5.488938>"
      ]
     },
     "execution_count": 20,
     "metadata": {},
     "output_type": "execute_result"
    }
   ],
   "source": [
    "add_log_tf(tf.constant(11.), tf.constant(22.))"
   ]
  },
  {
   "cell_type": "markdown",
   "metadata": {},
   "source": [
    "Now only the TensorFlow operations get executed! Everything else became static. We can illustrate this more extremely here"
   ]
  },
  {
   "cell_type": "code",
   "execution_count": 21,
   "metadata": {},
   "outputs": [],
   "source": [
    "@tf.function(autograph=True)\n",
    "def add_rnd(x):\n",
    "    print('running Python')\n",
    "    tf.print(\"running TensorFlow\")\n",
    "    rnd_np = np.random.uniform()\n",
    "    rnd_tf = tf.random.uniform(shape=())\n",
    "    return x * rnd_np, x * rnd_tf"
   ]
  },
  {
   "cell_type": "code",
   "execution_count": 22,
   "metadata": {},
   "outputs": [
    {
     "name": "stdout",
     "output_type": "stream",
     "text": [
      "running Python\n",
      "running TensorFlow\n"
     ]
    },
    {
     "data": {
      "text/plain": [
       "(<tf.Tensor: shape=(), dtype=float32, numpy=0.70940965>,\n",
       " <tf.Tensor: shape=(), dtype=float32, numpy=0.10721016>)"
      ]
     },
     "execution_count": 22,
     "metadata": {},
     "output_type": "execute_result"
    }
   ],
   "source": [
    "add_rnd(tf.constant(1.))"
   ]
  },
  {
   "cell_type": "markdown",
   "metadata": {},
   "source": [
    "The first time, the numpy code was executed as well, no difference so far. However, running it a second time, only the TensorFlow parts can change"
   ]
  },
  {
   "cell_type": "code",
   "execution_count": 23,
   "metadata": {},
   "outputs": [
    {
     "name": "stdout",
     "output_type": "stream",
     "text": [
      "running TensorFlow\n"
     ]
    },
    {
     "data": {
      "text/plain": [
       "(<tf.Tensor: shape=(), dtype=float32, numpy=0.70940965>,\n",
       " <tf.Tensor: shape=(), dtype=float32, numpy=0.03636861>)"
      ]
     },
     "execution_count": 23,
     "metadata": {},
     "output_type": "execute_result"
    }
   ],
   "source": [
    "add_rnd(tf.constant(1.))"
   ]
  },
  {
   "cell_type": "code",
   "execution_count": 24,
   "metadata": {},
   "outputs": [
    {
     "name": "stdout",
     "output_type": "stream",
     "text": [
      "running TensorFlow\n"
     ]
    },
    {
     "data": {
      "text/plain": [
       "(<tf.Tensor: shape=(), dtype=float32, numpy=1.4188193>,\n",
       " <tf.Tensor: shape=(), dtype=float32, numpy=1.8568926>)"
      ]
     },
     "execution_count": 24,
     "metadata": {},
     "output_type": "execute_result"
    }
   ],
   "source": [
    "add_rnd(tf.constant(2.))"
   ]
  },
  {
   "cell_type": "markdown",
   "metadata": {},
   "source": [
    "We see now clearly: TensorFlow executes the function but _only cares about the TensorFlow operations_, everything else is regarded as static. This can be a large pitfall! If we would execute this function _without_ the decorator, we would get a different result, since Numpy is also sampling a new random variable every time"
   ]
  },
  {
   "cell_type": "markdown",
   "metadata": {},
   "source": [
    "## Variables\n",
    "\n",
    "TensorFlow offers the possibility to have statefull objects inside a compiled graph (which e.g. is not possible with Numba). The most commonly used one is the `tf.Variable`. Technically, they are automatically captured on the function compilation and belong to it."
   ]
  },
  {
   "cell_type": "code",
   "execution_count": 25,
   "metadata": {},
   "outputs": [],
   "source": [
    "var1 = tf.Variable(1.)"
   ]
  },
  {
   "cell_type": "code",
   "execution_count": 26,
   "metadata": {},
   "outputs": [],
   "source": [
    "@tf.function(autograph=True)\n",
    "def scale_by_var(x):\n",
    "    print('running Python')\n",
    "    tf.print(\"running TensorFlow\")\n",
    "    return x * var1"
   ]
  },
  {
   "cell_type": "code",
   "execution_count": 27,
   "metadata": {},
   "outputs": [
    {
     "name": "stdout",
     "output_type": "stream",
     "text": [
      "running Python\n",
      "running TensorFlow\n"
     ]
    },
    {
     "data": {
      "text/plain": [
       "<tf.Tensor: shape=(), dtype=float32, numpy=1.0>"
      ]
     },
     "execution_count": 27,
     "metadata": {},
     "output_type": "execute_result"
    }
   ],
   "source": [
    "scale_by_var(tf.constant(1.))"
   ]
  },
  {
   "cell_type": "code",
   "execution_count": 28,
   "metadata": {},
   "outputs": [
    {
     "name": "stdout",
     "output_type": "stream",
     "text": [
      "running TensorFlow\n"
     ]
    },
    {
     "data": {
      "text/plain": [
       "<tf.Tensor: shape=(), dtype=float32, numpy=2.0>"
      ]
     },
     "execution_count": 28,
     "metadata": {},
     "output_type": "execute_result"
    }
   ],
   "source": [
    "scale_by_var(tf.constant(2.))"
   ]
  },
  {
   "cell_type": "code",
   "execution_count": 29,
   "metadata": {},
   "outputs": [
    {
     "name": "stdout",
     "output_type": "stream",
     "text": [
      "running TensorFlow\n"
     ]
    },
    {
     "data": {
      "text/plain": [
       "<tf.Tensor: shape=(), dtype=float32, numpy=42.0>"
      ]
     },
     "execution_count": 29,
     "metadata": {},
     "output_type": "execute_result"
    }
   ],
   "source": [
    "var1.assign(42.)\n",
    "scale_by_var(tf.constant(1.))"
   ]
  },
  {
   "cell_type": "markdown",
   "metadata": {},
   "source": [
    "As we see, the output changed. This is of course especially useful in the context of model fitting libraries, be it likelihoods or neural networks."
   ]
  },
  {
   "cell_type": "code",
   "execution_count": 30,
   "metadata": {},
   "outputs": [],
   "source": [
    "def add_rnd(x):\n",
    "    print('running Python')\n",
    "    tf.print(\"running TensorFlow\")\n",
    "    rnd_np = np.random.uniform()\n",
    "    rnd_tf = tf.random.uniform(shape=())\n",
    "    return x * rnd_np, x * rnd_tf"
   ]
  },
  {
   "cell_type": "code",
   "execution_count": 31,
   "metadata": {},
   "outputs": [
    {
     "name": "stdout",
     "output_type": "stream",
     "text": [
      "running Python\n",
      "running TensorFlow\n"
     ]
    },
    {
     "data": {
      "text/plain": [
       "(<tf.Tensor: shape=(), dtype=float32, numpy=0.6883487>,\n",
       " <tf.Tensor: shape=(), dtype=float32, numpy=0.43687785>)"
      ]
     },
     "execution_count": 31,
     "metadata": {},
     "output_type": "execute_result"
    }
   ],
   "source": [
    "add_rnd(tf.constant(1.))"
   ]
  },
  {
   "cell_type": "code",
   "execution_count": 32,
   "metadata": {},
   "outputs": [
    {
     "name": "stdout",
     "output_type": "stream",
     "text": [
      "running Python\n",
      "running TensorFlow\n"
     ]
    },
    {
     "data": {
      "text/plain": [
       "(<tf.Tensor: shape=(), dtype=float32, numpy=1.371141>,\n",
       " <tf.Tensor: shape=(), dtype=float32, numpy=0.23517442>)"
      ]
     },
     "execution_count": 32,
     "metadata": {},
     "output_type": "execute_result"
    }
   ],
   "source": [
    "add_rnd(tf.constant(2.))"
   ]
  },
  {
   "cell_type": "markdown",
   "metadata": {},
   "source": [
    "This means that we can use Numpy fully compatible in eager mode, but not when decorated."
   ]
  },
  {
   "cell_type": "code",
   "execution_count": 33,
   "metadata": {},
   "outputs": [],
   "source": [
    "def try_np_sqrt(x):\n",
    "    return np.sqrt(x)"
   ]
  },
  {
   "cell_type": "code",
   "execution_count": 34,
   "metadata": {},
   "outputs": [
    {
     "data": {
      "text/plain": [
       "2.236068"
      ]
     },
     "execution_count": 34,
     "metadata": {},
     "output_type": "execute_result"
    }
   ],
   "source": [
    "try_np_sqrt(tf.constant(5.))"
   ]
  },
  {
   "cell_type": "code",
   "execution_count": 35,
   "metadata": {},
   "outputs": [],
   "source": [
    "try_np_sqrt_tf = tf.function(try_np_sqrt, autograph=False)  # equivalent to decorator"
   ]
  },
  {
   "cell_type": "code",
   "execution_count": 36,
   "metadata": {},
   "outputs": [
    {
     "name": "stdout",
     "output_type": "stream",
     "text": [
      "Cannot convert a symbolic Tensor (x:0) to a numpy array.\n"
     ]
    }
   ],
   "source": [
    "try:\n",
    "    try_np_sqrt_tf(tf.constant(5.))\n",
    "except NotImplementedError as error:\n",
    "    print(error)"
   ]
  },
  {
   "cell_type": "markdown",
   "metadata": {},
   "source": [
    "As we see, Numpy complains in the graph mode, given that it cannot handle the Symbolic Tensor."
   ]
  },
  {
   "cell_type": "markdown",
   "metadata": {},
   "source": [
    "Having the `tf.function` decorator means that we can't use any Python dynamicity. What fails when decorated but works nicely if not:"
   ]
  },
  {
   "cell_type": "code",
   "execution_count": 37,
   "metadata": {},
   "outputs": [],
   "source": [
    "def greater_python(x, y):\n",
    "    if x > y:\n",
    "        return True\n",
    "    else:\n",
    "        return False"
   ]
  },
  {
   "cell_type": "code",
   "execution_count": 38,
   "metadata": {},
   "outputs": [
    {
     "data": {
      "text/plain": [
       "False"
      ]
     },
     "execution_count": 38,
     "metadata": {},
     "output_type": "execute_result"
    }
   ],
   "source": [
    "greater_python(tf.constant(1.), tf.constant(2.))"
   ]
  },
  {
   "cell_type": "markdown",
   "metadata": {},
   "source": [
    "This works again, and will fail with the graph decorator."
   ]
  },
  {
   "cell_type": "code",
   "execution_count": 39,
   "metadata": {},
   "outputs": [],
   "source": [
    "greater_python_tf = tf.function(greater_python, autograph=False)"
   ]
  },
  {
   "cell_type": "code",
   "execution_count": 40,
   "metadata": {},
   "outputs": [
    {
     "name": "stdout",
     "output_type": "stream",
     "text": [
      "using a `tf.Tensor` as a Python `bool` is not allowed: AutoGraph is disabled in this function. Try decorating it directly with @tf.function.\n"
     ]
    }
   ],
   "source": [
    "try:\n",
    "    greater_python_tf(tf.constant(1.), tf.constant(2.))\n",
    "except Exception as error:\n",
    "    print(error)"
   ]
  },
  {
   "cell_type": "markdown",
   "metadata": {},
   "source": [
    "The error message hints at something: while this does not work now - Python does not yet now the value of the Tensors so it can't decide whether it will evaluate to True or False - there is the possibility of \"autograph\": it automatically converts (a subset) of Python to TensorFlow: while loops, for loops through Tensors and conditionals. However, this is usually less effective and more errorprone than using explicitly the `tf.*` functions. Lets try it!"
   ]
  },
  {
   "cell_type": "code",
   "execution_count": 41,
   "metadata": {},
   "outputs": [],
   "source": [
    "greater_python_tf_autograph = tf.function(greater_python, autograph=True)"
   ]
  },
  {
   "cell_type": "code",
   "execution_count": 42,
   "metadata": {},
   "outputs": [
    {
     "data": {
      "text/plain": [
       "<tf.Tensor: shape=(), dtype=bool, numpy=False>"
      ]
     },
     "execution_count": 42,
     "metadata": {},
     "output_type": "execute_result"
    }
   ],
   "source": [
    "greater_python_tf_autograph(tf.constant(1.), tf.constant(2.))"
   ]
  },
  {
   "cell_type": "markdown",
   "metadata": {},
   "source": [
    "This now works neatless! But we're never sure."
   ]
  },
  {
   "cell_type": "markdown",
   "metadata": {},
   "source": [
    "## Performance\n",
    "\n",
    "In the end, this is what matters. And a comparison would be nice. Let's do that and see how Numpy and TensorFlow compare."
   ]
  },
  {
   "cell_type": "code",
   "execution_count": 43,
   "metadata": {},
   "outputs": [],
   "source": [
    "nevents = 10000000\n",
    "data_tf = tf.random.uniform(shape=(nevents,), dtype=tf.float64)\n",
    "data_np = np.random.uniform(size=(nevents,))"
   ]
  },
  {
   "cell_type": "code",
   "execution_count": 44,
   "metadata": {},
   "outputs": [],
   "source": [
    "def calc_np(x):\n",
    "    x_init = x\n",
    "    i = 42.\n",
    "    x = np.sqrt(np.abs(x_init * (i + 1.)))\n",
    "    x = np.cos(x - 0.3)\n",
    "    x = np.power(x, i + 1)\n",
    "    x = np.sinh(x + 0.4)\n",
    "    x = x ** 2\n",
    "    x = x / np.mean(x)\n",
    "    x = np.abs(x)\n",
    "    logx = np.log(x)\n",
    "    x = np.mean(logx)\n",
    "    \n",
    "    x1 = np.sqrt(np.abs(x_init * (i + 1.)))\n",
    "    x1 = np.cos(x1 - 0.3)\n",
    "    x1 = np.power(x1, i + 1)\n",
    "    x1 = np.sinh(x1 + 0.4)\n",
    "    x1 = x1 ** 2\n",
    "    x1 = x1 / np.mean(x1)\n",
    "    x1 = np.abs(x1)\n",
    "    logx = np.log(x1)\n",
    "    x1 = np.mean(logx)\n",
    "    \n",
    "    x2 = np.sqrt(np.abs(x_init * (i + 1.)))\n",
    "    x2 = np.cos(x2 - 0.3)\n",
    "    x2 = np.power(x2, i + 1)\n",
    "    x2 = np.sinh(x2 + 0.4)\n",
    "    x2 = x2 ** 2\n",
    "    x2 = x2 / np.mean(x2)\n",
    "    x2 = np.abs(x2)\n",
    "    logx = np.log(x2)\n",
    "    x2 = np.mean(logx)\n",
    "    return x + x1 + x2\n",
    "\n",
    "calc_np_numba = numba.jit(nopython=True, parallel=True)(calc_np)"
   ]
  },
  {
   "cell_type": "code",
   "execution_count": 45,
   "metadata": {},
   "outputs": [],
   "source": [
    "def calc_tf(x):\n",
    "    x_init = x\n",
    "    i = 42.\n",
    "    x = tf.sqrt(tf.abs(x_init * (tf.cast(i, dtype=tf.float64) + 1.)))\n",
    "    x = tf.cos(x - 0.3)\n",
    "    x = tf.pow(x, tf.cast(i + 1, tf.float64))\n",
    "    x = tf.sinh(x + 0.4)\n",
    "    x = x ** 2\n",
    "    x = x / tf.reduce_mean(x)\n",
    "    x = tf.abs(x)\n",
    "    x = tf.reduce_mean(tf.math.log(x))\n",
    "    \n",
    "    x1 = tf.sqrt(tf.abs(x_init * (tf.cast(i, dtype=tf.float64) + 1.)))\n",
    "    x1 = tf.cos(x1 - 0.3)\n",
    "    x1 = tf.pow(x1, tf.cast(i + 1, tf.float64))\n",
    "    x1 = tf.sinh(x1 + 0.4)\n",
    "    x1 = x1 ** 2\n",
    "    x1 = x1 / tf.reduce_mean(x1)\n",
    "    x1 = tf.abs(x1)\n",
    "    \n",
    "    x2 = tf.sqrt(tf.abs(x_init * (tf.cast(i, dtype=tf.float64) + 1.)))\n",
    "    x2 = tf.cos(x2 - 0.3)\n",
    "    x2 = tf.pow(x2, tf.cast(i + 1, tf.float64))\n",
    "    x2 = tf.sinh(x2 + 0.4)\n",
    "    x2 = x2 ** 2\n",
    "    x2 = x2 / tf.reduce_mean(x2)\n",
    "    x2 = tf.abs(x2)\n",
    "    \n",
    "    return x + x1 + x2\n",
    "\n",
    "calc_tf_func = tf.function(calc_tf, autograph=False)"
   ]
  },
  {
   "cell_type": "code",
   "execution_count": 46,
   "metadata": {},
   "outputs": [
    {
     "name": "stdout",
     "output_type": "stream",
     "text": [
      "219 ms ± 0 ns per loop (mean ± std. dev. of 1 run, 1 loop each)\n"
     ]
    }
   ],
   "source": [
    "%%timeit -n1 -r1  # compile time, just for curiosity\n",
    "calc_tf_func(data_tf)"
   ]
  },
  {
   "cell_type": "code",
   "execution_count": 47,
   "metadata": {},
   "outputs": [
    {
     "name": "stdout",
     "output_type": "stream",
     "text": [
      "2.9 s ± 0 ns per loop (mean ± std. dev. of 1 run, 1 loop each)\n"
     ]
    }
   ],
   "source": [
    "%%timeit -n1 -r1  # compile time, just for curiosity\n",
    "calc_np_numba(data_np)"
   ]
  },
  {
   "cell_type": "code",
   "execution_count": 48,
   "metadata": {},
   "outputs": [
    {
     "name": "stdout",
     "output_type": "stream",
     "text": [
      "2.36 s ± 66 ms per loop (mean ± std. dev. of 7 runs, 1 loop each)\n"
     ]
    }
   ],
   "source": [
    "%timeit calc_np(data_np)  # not compiled"
   ]
  },
  {
   "cell_type": "code",
   "execution_count": 49,
   "metadata": {},
   "outputs": [
    {
     "name": "stdout",
     "output_type": "stream",
     "text": [
      "721 ms ± 37.8 ms per loop (mean ± std. dev. of 7 runs, 1 loop each)\n"
     ]
    }
   ],
   "source": [
    "%timeit calc_tf(data_tf)  # not compiled"
   ]
  },
  {
   "cell_type": "code",
   "execution_count": 50,
   "metadata": {},
   "outputs": [
    {
     "name": "stdout",
     "output_type": "stream",
     "text": [
      "427 ms ± 20.2 ms per loop (mean ± std. dev. of 7 runs, 1 loop each)\n"
     ]
    }
   ],
   "source": [
    "%%timeit -n1 -r7  # prevent caching\n",
    "calc_np_numba(data_np)"
   ]
  },
  {
   "cell_type": "code",
   "execution_count": 51,
   "metadata": {},
   "outputs": [
    {
     "name": "stdout",
     "output_type": "stream",
     "text": [
      "183 ms ± 10.5 ms per loop (mean ± std. dev. of 7 runs, 1 loop each)\n"
     ]
    }
   ],
   "source": [
    "%%timeit -n1 -r7  # prevent caching\n",
    "calc_tf_func(data_tf)"
   ]
  },
  {
   "cell_type": "markdown",
   "metadata": {},
   "source": [
    "We can now play around with this numbers. Depending on the size (we can go up to 10 mio) and parallelizability of the problem, the numbers differ..\n",
    "\n",
    "In general:\n",
    "- Numpy is faster for small numbers\n",
    "- TensorFlow is faster for larger arrays and well parallelizable computations. Due to the larger overhead in dispatching in eager mode, it is significantly slower for very small (1-10) sample sizes.\n",
    "\n",
    "=> there is no free lunch\n",
    "\n",
    "Note: this has not run on a GPU, which would automatically happen for TensorFlow."
   ]
  },
  {
   "cell_type": "markdown",
   "metadata": {},
   "source": [
    "## Control flow\n",
    "\n",
    "While TensorFlow is independent of the Python control flow, it has its own functions for that, mainly:\n",
    "- while_loop(): a while loop taking a body and condition function\n",
    "- cond(): if-like\n",
    "- case and switch_case: if/elif statements\n",
    "- tf.where"
   ]
  },
  {
   "cell_type": "code",
   "execution_count": 52,
   "metadata": {},
   "outputs": [],
   "source": [
    "def true_fn():\n",
    "    return 1.\n",
    "\n",
    "def false_fn():\n",
    "    return 0.\n",
    "\n",
    "value = tf.cond(tf.greater(111., 42.), true_fn=true_fn, false_fn=false_fn)"
   ]
  },
  {
   "cell_type": "code",
   "execution_count": 53,
   "metadata": {},
   "outputs": [
    {
     "data": {
      "text/plain": [
       "1.0"
      ]
     },
     "execution_count": 53,
     "metadata": {},
     "output_type": "execute_result"
    }
   ],
   "source": [
    "value"
   ]
  },
  {
   "cell_type": "markdown",
   "metadata": {},
   "source": [
    "## Gradients\n",
    "\n",
    "TensorFlow allows us to calculate the automatic gradients."
   ]
  },
  {
   "cell_type": "code",
   "execution_count": 54,
   "metadata": {},
   "outputs": [],
   "source": [
    "var2 = tf.Variable(2.)"
   ]
  },
  {
   "cell_type": "code",
   "execution_count": 55,
   "metadata": {},
   "outputs": [
    {
     "data": {
      "text/plain": [
       "<tf.Tensor: shape=(), dtype=float32, numpy=8.0>"
      ]
     },
     "execution_count": 55,
     "metadata": {},
     "output_type": "execute_result"
    }
   ],
   "source": [
    "with tf.GradientTape() as tape:\n",
    "    tape.watch(var2)  # actually watches all variables already by default\n",
    "    y = var2 ** 3\n",
    "y"
   ]
  },
  {
   "cell_type": "code",
   "execution_count": 56,
   "metadata": {},
   "outputs": [
    {
     "data": {
      "text/plain": [
       "<tf.Tensor: shape=(), dtype=float32, numpy=12.0>"
      ]
     },
     "execution_count": 56,
     "metadata": {},
     "output_type": "execute_result"
    }
   ],
   "source": [
    "grad = tape.gradient(y, var2)\n",
    "grad"
   ]
  },
  {
   "cell_type": "markdown",
   "metadata": {},
   "source": [
    "This allows to do many things with gradients and e.g. solve differential equations."
   ]
  },
  {
   "cell_type": "markdown",
   "metadata": {},
   "source": [
    "## Statistics\n",
    "\n",
    "While TensorFlow offers some support for statistical inference, TensorFlow-Probability is very strong at this and provides MCMC methods, probability distributions and more."
   ]
  },
  {
   "cell_type": "code",
   "execution_count": 57,
   "metadata": {},
   "outputs": [],
   "source": [
    "cauchy = tfp.distributions.Cauchy(loc=1., scale=10.)"
   ]
  },
  {
   "cell_type": "code",
   "execution_count": 58,
   "metadata": {},
   "outputs": [],
   "source": [
    "sample = cauchy.sample(10)"
   ]
  },
  {
   "cell_type": "code",
   "execution_count": 59,
   "metadata": {},
   "outputs": [
    {
     "data": {
      "text/plain": [
       "<tf.Tensor: shape=(10,), dtype=float32, numpy=\n",
       "array([0.01792534, 0.00687814, 0.00084488, 0.01351866, 0.02930262,\n",
       "       0.02684786, 0.00388126, 0.00253546, 0.00813279, 0.00580823],\n",
       "      dtype=float32)>"
      ]
     },
     "execution_count": 59,
     "metadata": {},
     "output_type": "execute_result"
    }
   ],
   "source": [
    "cauchy.prob(sample)"
   ]
  },
  {
   "cell_type": "markdown",
   "metadata": {},
   "source": [
    "### How they compare to zfit\n",
    "\n",
    "TensorFlow-Probability offers a great choice of distributions to build a model. The flexibility in terms of vectorization and parametrization is larger than in zfit. However, they only provide analytic models and lack any numerical normalization or samplings.\n",
    "\n",
    "Internally, zfit simply wraps the for certain implementations. There is also a standard wrapper, `WrapDistribution`, that allows to easily wrap any TFP distribution and use it in zfit."
   ]
  },
  {
   "cell_type": "markdown",
   "metadata": {},
   "source": [
    "# HowTo with zfit\n",
    "\n",
    "Whenever possible, it is preferrable to write anything in TensorFlow. But given the possibility to mix, we can use this.\n",
    "- try to use `z.py_function` or `tf.py_function` to wrap pure Python code\n",
    "- if you write something and want to make sure it is run in eager mode, use `zfit.run.assert_executing_eagerly()`. This way, your function won't be compiled and an error would be raised.\n",
    "- set the graph mode and numerical gradient accordingly"
   ]
  },
  {
   "cell_type": "code",
   "execution_count": 60,
   "metadata": {},
   "outputs": [
    {
     "data": {
      "text/plain": [
       "<zfit.util.temporary.TemporarilySet at 0x7f918187c550>"
      ]
     },
     "execution_count": 60,
     "metadata": {},
     "output_type": "execute_result"
    }
   ],
   "source": [
    "zfit.run.set_graph_mode(False)\n",
    "zfit.run.set_autograd_mode(False)"
   ]
  },
  {
   "cell_type": "code",
   "execution_count": 61,
   "metadata": {},
   "outputs": [],
   "source": [
    "class NumpyGauss(zfit.pdf.ZPDF):\n",
    "    _PARAMS = ['mu', 'sigma']\n",
    "    \n",
    "    def _unnormalized_pdf(self, x):\n",
    "        data = z.unstack_x(x)\n",
    "        mu = self.params['mu']\n",
    "        sigma = self.params['sigma']\n",
    "        return tf.convert_to_tensor(np.exp( - 0.5 * (data - mu) ** 2 / sigma ** 2))"
   ]
  },
  {
   "cell_type": "code",
   "execution_count": 62,
   "metadata": {},
   "outputs": [],
   "source": [
    "obs = zfit.Space('obs1', (-3, 3))\n",
    "mu = zfit.Parameter('mu', 0., -1, 1)\n",
    "sigma = zfit.Parameter('sigma', 1., 0.1, 10)\n"
   ]
  },
  {
   "cell_type": "code",
   "execution_count": 63,
   "metadata": {},
   "outputs": [],
   "source": [
    "gauss_np = NumpyGauss(obs=obs, mu=mu, sigma=sigma)\n",
    "gauss = zfit.pdf.Gauss(obs=obs, mu=mu, sigma=sigma)"
   ]
  },
  {
   "cell_type": "code",
   "execution_count": 64,
   "metadata": {},
   "outputs": [
    {
     "name": "stdout",
     "output_type": "stream",
     "text": [
      "tf.Tensor([0.3422554], shape=(1,), dtype=float64) tf.Tensor([0.3422688], shape=(1,), dtype=float64)\n"
     ]
    }
   ],
   "source": [
    "integral_np = gauss_np.integrate((-1, 0))\n",
    "integral = gauss.integrate((-1, 0))\n",
    "print(integral_np, integral)"
   ]
  },
  {
   "cell_type": "markdown",
   "metadata": {},
   "source": [
    "\n"
   ]
  }
 ],
 "metadata": {
  "kernelspec": {
   "display_name": "Python 3",
   "language": "python",
   "name": "python3"
  },
  "language_info": {
   "codemirror_mode": {
    "name": "ipython",
    "version": 3
   },
   "file_extension": ".py",
   "mimetype": "text/x-python",
   "name": "python",
   "nbconvert_exporter": "python",
   "pygments_lexer": "ipython3",
   "version": "3.8.3"
  }
 },
 "nbformat": 4,
 "nbformat_minor": 4
}
